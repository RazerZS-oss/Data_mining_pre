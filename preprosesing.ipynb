{
 "cells": [
  {
   "cell_type": "markdown",
   "metadata": {},
   "source": [
    "## PREPROSES DATA MINING "
   ]
  },
  {
   "cell_type": "code",
   "execution_count": 27,
   "metadata": {},
   "outputs": [],
   "source": [
    "import pandas as pd\n",
    "from sklearn.impute import SimpleImputer\n",
    "from sklearn.preprocessing import LabelEncoder, StandardScaler\n"
   ]
  },
  {
   "cell_type": "code",
   "execution_count": 28,
   "metadata": {},
   "outputs": [
    {
     "name": "stdout",
     "output_type": "stream",
     "text": [
      "   Country   Age   Salary Purchased\n",
      "0   France  44.0  72000.0        No\n",
      "1    Spain  27.0  48000.0       Yes\n",
      "2  Germany  30.0  54000.0        No\n",
      "3    Spain  38.0  61000.0        No\n",
      "4  Germany  40.0      NaN       Yes\n",
      "5   France  35.0  58000.0       Yes\n",
      "6    Spain   NaN  52000.0        No\n",
      "7   France  48.0  79000.0       Yes\n",
      "8  Germany  50.0  83000.0        No\n",
      "9   France  37.0  67000.0       Yes\n"
     ]
    }
   ],
   "source": [
    "# Membaca dataset\n",
    "data = pd.read_csv('data.csv', sep=';')\n",
    "\n",
    "# Menampilkan beberapa baris pertama untuk memahami struktur data\n",
    "print(data)\n"
   ]
  },
  {
   "cell_type": "markdown",
   "metadata": {},
   "source": [
    "### Preprocessing Data"
   ]
  },
  {
   "cell_type": "code",
   "execution_count": 31,
   "metadata": {},
   "outputs": [
    {
     "name": "stdout",
     "output_type": "stream",
     "text": [
      "   Country           Age        Salary  Purchased\n",
      "0        0  7.588744e-01  7.494733e-01          0\n",
      "1        2 -1.711504e+00 -1.438178e+00          1\n",
      "2        1 -1.275555e+00 -8.912655e-01          0\n",
      "3        2 -1.130238e-01 -2.532004e-01          0\n",
      "4        1  1.776089e-01  2.524367e-16          1\n",
      "5        0 -5.489729e-01 -5.266569e-01          1\n",
      "6        2  1.221245e-16 -1.073570e+00          0\n",
      "7        0  1.340140e+00  1.387538e+00          1\n",
      "8        1  1.630773e+00  1.752147e+00          0\n",
      "9        0 -2.583402e-01  2.937125e-01          1\n",
      "(10, 4)\n"
     ]
    }
   ],
   "source": [
    "\n",
    "\n",
    "# Mengatasi missing value\n",
    "imputer = SimpleImputer(strategy='mean')  # untuk kolom numerik\n",
    "data[['Age', 'Salary']] = imputer.fit_transform(data[['Age', 'Salary']])\n",
    "\n",
    "imputer = SimpleImputer(strategy='most_frequent')  # untuk kolom kategorikal\n",
    "data[['Country', 'Purchased']] = imputer.fit_transform(data[['Country', 'Purchased']])\n",
    "\n",
    "# Encoding data kategorikal\n",
    "label_encoder = LabelEncoder()\n",
    "data['Country'] = label_encoder.fit_transform(data['Country'])\n",
    "data['Purchased'] = label_encoder.fit_transform(data['Purchased'])\n",
    "\n",
    "# Normalisasi data\n",
    "scaler = StandardScaler()\n",
    "data[['Age', 'Salary']] = scaler.fit_transform(data[['Age', 'Salary']])\n",
    "\n",
    "# Menampilkan data setelah preprocessing\n",
    "print(data)\n",
    "print(f\"DataFrame memiliki {data.shape[0]} baris dan {data.shape[1]} kolom.\")\n"
   ]
  }
 ],
 "metadata": {
  "kernelspec": {
   "display_name": "base",
   "language": "python",
   "name": "python3"
  },
  "language_info": {
   "codemirror_mode": {
    "name": "ipython",
    "version": 3
   },
   "file_extension": ".py",
   "mimetype": "text/x-python",
   "name": "python",
   "nbconvert_exporter": "python",
   "pygments_lexer": "ipython3",
   "version": "3.11.9"
  }
 },
 "nbformat": 4,
 "nbformat_minor": 2
}
